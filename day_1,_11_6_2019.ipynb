{
  "nbformat": 4,
  "nbformat_minor": 0,
  "metadata": {
    "colab": {
      "name": "day-1, 11/6/2019",
      "version": "0.3.2",
      "provenance": [],
      "include_colab_link": true
    },
    "kernelspec": {
      "name": "python3",
      "display_name": "Python 3"
    }
  },
  "cells": [
    {
      "cell_type": "markdown",
      "metadata": {
        "id": "view-in-github",
        "colab_type": "text"
      },
      "source": [
        "<a href=\"https://colab.research.google.com/github/SandeepSenshi/python/blob/master/day_1%2C_11_6_2019.ipynb\" target=\"_parent\"><img src=\"https://colab.research.google.com/assets/colab-badge.svg\" alt=\"Open In Colab\"/></a>"
      ]
    },
    {
      "cell_type": "code",
      "metadata": {
        "id": "dV2Fzo65zJOj",
        "colab_type": "code",
        "colab": {}
      },
      "source": [
        ""
      ],
      "execution_count": 0,
      "outputs": []
    },
    {
      "cell_type": "code",
      "metadata": {
        "id": "1cRw5HM2zMFs",
        "colab_type": "code",
        "colab": {}
      },
      "source": [
        ""
      ],
      "execution_count": 0,
      "outputs": []
    },
    {
      "cell_type": "markdown",
      "metadata": {
        "id": "aSgkwwETzNkh",
        "colab_type": "text"
      },
      "source": [
        "## Python basics"
      ]
    },
    {
      "cell_type": "code",
      "metadata": {
        "id": "t9DPwJ4WzQoj",
        "colab_type": "code",
        "colab": {
          "base_uri": "https://localhost:8080/",
          "height": 34
        },
        "outputId": "7d7791e0-fbe8-42d1-fce3-8f8593c8c7b2"
      },
      "source": [
        "'hello world'"
      ],
      "execution_count": 1,
      "outputs": [
        {
          "output_type": "execute_result",
          "data": {
            "text/plain": [
              "'hello world'"
            ]
          },
          "metadata": {
            "tags": []
          },
          "execution_count": 1
        }
      ]
    },
    {
      "cell_type": "code",
      "metadata": {
        "id": "qM07dN68zxbK",
        "colab_type": "code",
        "colab": {
          "base_uri": "https://localhost:8080/",
          "height": 34
        },
        "outputId": "3f7f0ba7-2331-4034-c88f-905352e0845c"
      },
      "source": [
        "print('hello python')"
      ],
      "execution_count": 2,
      "outputs": [
        {
          "output_type": "stream",
          "text": [
            "hello python\n"
          ],
          "name": "stdout"
        }
      ]
    },
    {
      "cell_type": "code",
      "metadata": {
        "id": "2NgKp9yF0HXg",
        "colab_type": "code",
        "colab": {
          "base_uri": "https://localhost:8080/",
          "height": 34
        },
        "outputId": "19ec9aba-fa87-435e-f6c6-20944d81328a"
      },
      "source": [
        "import math\n",
        "a=100\n",
        "math.sqrt(a)"
      ],
      "execution_count": 5,
      "outputs": [
        {
          "output_type": "execute_result",
          "data": {
            "text/plain": [
              "10.0"
            ]
          },
          "metadata": {
            "tags": []
          },
          "execution_count": 5
        }
      ]
    },
    {
      "cell_type": "code",
      "metadata": {
        "id": "eQkR6ZxK0bF2",
        "colab_type": "code",
        "colab": {}
      },
      "source": [
        ""
      ],
      "execution_count": 0,
      "outputs": []
    },
    {
      "cell_type": "markdown",
      "metadata": {
        "id": "wEuKMDX30z0t",
        "colab_type": "text"
      },
      "source": [
        "# a simple calcuator\n",
        "### test cases\n",
        "1. a=10,b=5\n",
        "2. a=100,b=20"
      ]
    },
    {
      "cell_type": "code",
      "metadata": {
        "id": "Mu9Nm0iK0wCA",
        "colab_type": "code",
        "colab": {
          "base_uri": "https://localhost:8080/",
          "height": 185
        },
        "outputId": "1ff66b60-f9f0-42e9-848d-675878adcdce"
      },
      "source": [
        "def calci(a,b):\n",
        "  add=a+b\n",
        "  sub=a-b\n",
        "  mul=a*b\n",
        "  div=a/b\n",
        "  print('add',add,'\\n','sub',sub,'\\n','mul',mul,'\\n','div',round(div,2),'\\n')\n",
        "  #return add,sub,mul,div\n",
        "  \n",
        "calci(13,7)\n",
        "calci(100,50)"
      ],
      "execution_count": 31,
      "outputs": [
        {
          "output_type": "stream",
          "text": [
            "add 20 \n",
            " sub 6 \n",
            " mul 91 \n",
            " div 1.86 \n",
            "\n",
            "add 150 \n",
            " sub 50 \n",
            " mul 5000 \n",
            " div 2.0 \n",
            "\n"
          ],
          "name": "stdout"
        }
      ]
    },
    {
      "cell_type": "code",
      "metadata": {
        "id": "jiC8Jhew38Xn",
        "colab_type": "code",
        "colab": {
          "base_uri": "https://localhost:8080/",
          "height": 34
        },
        "outputId": "8993e7ad-5494-4363-84b6-4944c5b96b40"
      },
      "source": [
        "'''hello \n",
        "    \n",
        "     dakfjn'''"
      ],
      "execution_count": 14,
      "outputs": [
        {
          "output_type": "execute_result",
          "data": {
            "text/plain": [
              "'hello \\n    \\n     dakfjn'"
            ]
          },
          "metadata": {
            "tags": []
          },
          "execution_count": 14
        }
      ]
    },
    {
      "cell_type": "code",
      "metadata": {
        "id": "jcNZ1hwr7ney",
        "colab_type": "code",
        "colab": {}
      },
      "source": [
        ""
      ],
      "execution_count": 0,
      "outputs": []
    },
    {
      "cell_type": "markdown",
      "metadata": {
        "id": "d9gUIXmU920U",
        "colab_type": "text"
      },
      "source": [
        "# data  types\n",
        "* strings\n",
        "* tuples\n",
        "* list\n",
        "*sets\n",
        "*dictionaries\n",
        "*arrays"
      ]
    },
    {
      "cell_type": "code",
      "metadata": {
        "id": "xNvKJjF9-8Bv",
        "colab_type": "code",
        "colab": {
          "base_uri": "https://localhost:8080/",
          "height": 67
        },
        "outputId": "3e36357e-53d8-4fce-ee2a-169d4bc01fc5"
      },
      "source": [
        "a=\"quotes are used for strings \"\n",
        "b=' single quotes'\n",
        "print(a)\n",
        "print(b)\n",
        "a+' '+b"
      ],
      "execution_count": 37,
      "outputs": [
        {
          "output_type": "stream",
          "text": [
            "quotes are used for strings \n",
            " single quotes\n"
          ],
          "name": "stdout"
        },
        {
          "output_type": "execute_result",
          "data": {
            "text/plain": [
              "'quotes are used for strings   single quotes'"
            ]
          },
          "metadata": {
            "tags": []
          },
          "execution_count": 37
        }
      ]
    },
    {
      "cell_type": "code",
      "metadata": {
        "id": "FMY7_3nW-1r0",
        "colab_type": "code",
        "colab": {}
      },
      "source": [
        ""
      ],
      "execution_count": 0,
      "outputs": []
    }
  ]
}